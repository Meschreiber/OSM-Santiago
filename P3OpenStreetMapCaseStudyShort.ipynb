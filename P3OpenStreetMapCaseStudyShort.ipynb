{
 "cells": [
  {
   "cell_type": "markdown",
   "metadata": {},
   "source": [
    "# OpenStreetMap Case Study: Santiago\n",
    "    "
   ]
  },
  {
   "cell_type": "markdown",
   "metadata": {},
   "source": [
    "## Map Area"
   ]
  },
  {
   "cell_type": "markdown",
   "metadata": {},
   "source": [
    "Santiago, Chile\n",
    "\n",
    "<ul>\n",
    "<li> https://www.openstreetmap.org/#map=12/-33.4568/-70.5882  </li>\n",
    "<li> https://mapzen.com/data/metro-extracts/metro/santiago_chile/ </li>\n",
    "</ul>\n",
    "\n",
    "As an expat living in Santiago, I am always trying to familiarize myself more with where I live.  I'm interested in how complete this data is and in what I can find out by querying.  Maybe I'll even improve my Spanish a little bit. \n",
    "\n",
    "Initial inspection of the downloaded osm file in the terminal reveals that it is about 260 MB large.  I used the code provided in the project details (see footnote 1) to create a small sample, one tenth the size of the original to explore."
   ]
  },
  {
   "cell_type": "markdown",
   "metadata": {},
   "source": [
    "## Problems Encountered in the Map"
   ]
  },
  {
   "cell_type": "markdown",
   "metadata": {},
   "source": [
    "While exploring the data, I decided to focus on the most frequent secondary tags. The following is a list of the ten most common secondary tags within a node or a way.  I decided to find out more about the first seven.\n"
   ]
  },
  {
   "cell_type": "code",
   "execution_count": null,
   "metadata": {
    "collapsed": true
   },
   "outputs": [],
   "source": [
    "addr:street: 22855\n",
    "addr:housenumber: 21573\n",
    "name: 10176\n",
    "addr:interpolation: 10118\n",
    "highway: 9979\n",
    "source: 3871\n",
    "id_origin: 3722\n",
    "surface: 3274\n",
    "building: 2907\n",
    "oneway: 1951"
   ]
  },
  {
   "cell_type": "markdown",
   "metadata": {},
   "source": [
    "* Unsurprisingly, many `addr:street` values were unstandardized. (Av., Av, Ave, Avda. and Avenida all indicating the same thing, e.g.) This isn't as large a problem as it is in the wester world since in Chile, most street names are *just* a name -- that is to say they don't have a classifier  such as \"Calle\" or \"Avenida\" after them like many western countries have a \"Street\", \"Avenue\", \"Rue\", \"Strasse\" or some other kind of street name after the actual proper noun. \n",
    "* Some values for the `addr:housenumber` key were not integer values and appeared to be street names, and thus their tags should be changed from `addr:housenumber` to `addr:street`.  This was at first clouded by the fact that several house numbers included a letter, e.g. \"1345 A\" or \"s/n\" (sin numero) but are in fact correct and thus should stay as is.  Though there are a fair number of \"S/n\" buildings here, and finding them can sometimes be tough, it's much easier than where I used to live (Amman, Jordan) where the address system was only introduced in 2007!\n",
    "* Additionally many `name` values appeared to include street names, in other words they were improperly using the `name` key, or duplicating what was already included in the `addr:street` key.  Regardless of whether these tags were improperly used, similar standardizations needed to be applied to the `name` values as the `addr:street`\n",
    "* Almost all `addr:interpolation` were of the value of 'even' or 'odd' indicating a good normalization (since addr:interpolation can also have a range of numbers as its value) but one \"Las Hualtatas\" was clearly mislabeled. \n",
    "* Highways seemed to be properly used\n",
    "* Several versions of the most commonly used sources are present and not standardized.\n",
    "* The key `id_origin` presents numeric values, most of which are repeated only once.  Presumably this indicates where the id number of an element came from, but it is strange that only two nodes per origin.  There is nothing in the <a href = \"https://wiki.openstreetmap.org/wiki/Main_Page\">OSM documentation</a> about it, which makes me wonder how to find out about commonly used conventions within one particular area.\n",
    "\n",
    "\n",
    "\n"
   ]
  },
  {
   "cell_type": "markdown",
   "metadata": {},
   "source": [
    "### Unstandardized street, place, and source names\n",
    "\n",
    "To fix these issues, I created two separate mapping dictionaries, and update fucntions which were called later on when shaping the elements to create the CSV files.  For the street names, the abbreviated portion was replaced, whereas for source names, any mention of a key part of the source (for example, the web address of National Institute of Statistics,) caused the entire source to be replaced with the standardized name."
   ]
  },
  {
   "cell_type": "code",
   "execution_count": null,
   "metadata": {
    "collapsed": false
   },
   "outputs": [],
   "source": [
    "'''mapping dictionary for fixing abbreviations in street names'''\n",
    "\n",
    "mapping = { \"A.\": \"Avenida\",\n",
    "            \"Av.\": \"Avenida\",\n",
    "            \"Av\" : \"Avenida\",\n",
    "            \"Avda.\" : \"Avenida\",\n",
    "            \"Avda\" : \"Avenida\",\n",
    "            \"Ave.\": \"Avenida\",\n",
    "            \"Ave\": \"Avenida\",\n",
    "            \"Co.\": \"Cerro\",\n",
    "            \"Co\" : \"Cerro\",\n",
    "            \"Psje.\" : \"Pasaje\",\n",
    "            \"Psje\" : \"Pasaje\",\n",
    "            \"Pje.\" : \"Pasaje\",\n",
    "            \"Pje\" : \"Pasaje\",\n",
    "            \"Fco.\" : \"Francisco\",\n",
    "            \"Fco\" : \"Francisco\",\n",
    "            \"Sta. \" : \"Santa\",\n",
    "            \"Sta\" : \"Santa\"\n",
    "            }\n",
    "\n",
    "''' mapping dictionary to update sources '''\n",
    "\n",
    "sources= {'www.ine.cl' : 'Instituto Nacional de Estadistica www.ine.cl',\n",
    "            'Instituto Nacional De Estadisticas': 'Instituto Nacional de Estadistica www.ine.cl',\n",
    "            'Bing' : \"Bing\",\n",
    "            \"bing\" : \"Bing\",\n",
    "            \"2016 por KG\" : \"Reconocimiento cartográfico 2016 por KG\"}\n",
    "\n",
    "\n",
    "def update_streetname(name, mapping):\n",
    "    '''Changes a portion of a key to a its value in a mapping dictionary'''\n",
    "    for error in mapping.keys():\n",
    "        if error in name:\n",
    "            name = re.sub(r'\\b' + error + r'\\b\\.?', mapping[error], name)\n",
    "    return name\n",
    "\n",
    "def update_sourcename(name, mapping):\n",
    "    '''Changes a name from a key to a its value in a mapping dictionary'''\n",
    "    for error in mapping.keys():\n",
    "        if error in name:\n",
    "            name = mapping[error]\n",
    "    return name"
   ]
  },
  {
   "cell_type": "markdown",
   "metadata": {},
   "source": [
    "### Non-numeric house numbers\n",
    "\n",
    "The fixer function here check's to see that *some* numbers are included and that the value is not \"S/N\". If the housenumber does not meet these requirements, the key value is changed to `name`.  This fix needs to be done before the \"name\" fixes occur, so that it can be changed to a `addr:street` if necessary."
   ]
  },
  {
   "cell_type": "code",
   "execution_count": null,
   "metadata": {
    "collapsed": true
   },
   "outputs": [],
   "source": [
    "numbers = re.compile('\\d')\n",
    "\n",
    "def addressfix(element):\n",
    "    '''If a housenumber does not contain any numeric characters, it's key tag (\"k\"=) is changed to a \"name\" \n",
    "    rather than \"addr:housenumber\" \n",
    "    Args: \n",
    "        element - an element from an OSM file\n",
    "    Returns:\n",
    "        element - updated element\n",
    "    '''\n",
    "    if element.attrib['k'] == \"addr:housenumber\":\n",
    "        if not(numbers.search(element.attrib['v'])):\n",
    "            if (element.attrib['v'] != \"s/n\"): \n",
    "                if (element.attrib['v'] != \"S/N\"):\n",
    "                    print element.attrib['v']\n",
    "                    element.attrib['k'] = 'name'\n",
    "    return element\n"
   ]
  },
  {
   "cell_type": "markdown",
   "metadata": {},
   "source": [
    "### Misused \"name\" tags"
   ]
  },
  {
   "cell_type": "code",
   "execution_count": null,
   "metadata": {
    "collapsed": false
   },
   "outputs": [],
   "source": [
    "#Counts the number of nodes which have both an amenity and name tag and nodes that have only an amenity tag with no name\n",
    "#Same for street names and regular name tags\n",
    "\n",
    "ns_count =0\n",
    "na_count = 0\n",
    "amenity_only = 0\n",
    "street_only =0\n",
    "\n",
    "for node in tag_list:\n",
    "    if ('name' in tag_list[node]):\n",
    "        if ('amenity' in tag_list[node]):\n",
    "            na_count +=1\n",
    "        if ('addr:street' in tag_list[node]):\n",
    "            ns_count +=1\n",
    "    elif ('amenity' in tag_list[node]):\n",
    "        amenity_only +=1\n",
    "    elif ('addr:street' in tag_list[node]):\n",
    "        street_only +=1\n",
    "        \n",
    "print \"Nodes with both amenity and name tags: \" + str(na_count)\n",
    "print \"Nodes with an amenity but no name tag: \" + str(amenity_only)\n",
    "print\n",
    "print \"Nodes with both addr:street and name tags: \" + str(ns_count)\n",
    "print \"Nodes with street but no name tag: \" + str(street_only)"
   ]
  },
  {
   "cell_type": "raw",
   "metadata": {
    "collapsed": true
   },
   "source": [
    "Nodes with both amenity and name tags: 909\n",
    "Nodes with an amenity but no name tag: 136\n",
    "\n",
    "Nodes with both addr:street and name tags: 1043\n",
    "Nodes with street but no name tag: 20500"
   ]
  },
  {
   "cell_type": "markdown",
   "metadata": {},
   "source": [
    "Only about 13% of amenities are nameless.  Noticeably the sample has 1542 amenities, but only 1045 listed here. Presumably the rest are not nodes, but rather ways or relations. (A football field may have several nodes to demarcate the edges and thus would be a way.)  Still, it seems that the majority of amenities are named.  On the otherhand, most of the nodes labeled with a street:addr do not additionally have a name though some do.  Perhaps these 1043 (in only a sample document) are duplicately named or perhaps some of them include a different name and street:addr.\n",
    "\n",
    "The function below updates an elements `name` tag to an `addr:street` tag if the value matches a known street name or if common street classifiers are found within the value."
   ]
  },
  {
   "cell_type": "code",
   "execution_count": null,
   "metadata": {
    "collapsed": false
   },
   "outputs": [],
   "source": [
    "streets = [\"Av.\", \"Ave\", \"Avda.\", \"Avenida\", \"Calle\", \"Camino\", \"Diagonal\",  \"Pje\", \"Pje.\", \"Psje\", \"Pasaje\"]\n",
    "\n",
    "def name_street_fix(element):\n",
    "    if element.attrib['k'] == \"name\":\n",
    "        # Checks to see if the name value matches an already given street name, this is particularly useful for the streets\n",
    "        # which are dates.  The tag key is changed to \"addr:street\"\n",
    "        for street in street_values:\n",
    "            if element.attrib['v'] == street:\n",
    "                    element.attrib['k'] = 'addr:street'\n",
    "        # If the name value has a common street classifier in it, the tag key is changed to \"addr:street\"   \n",
    "        for street in streets:\n",
    "            if element.attrib['v'].find(street):\n",
    "                element.attrib['k'] = 'addr:street'\n",
    "    return element\n",
    "            "
   ]
  },
  {
   "cell_type": "markdown",
   "metadata": {},
   "source": [
    "### Addr:interpolation -- one error, for now\n",
    "\n",
    "From the sample, it seemed there was just one value that was not 'even' or 'odd', it was \"Las Hualtatas\" a busy street in a swank part of town.  Though I know this is a street, there are other incidents where an actualy place name could be used instead of a street.  To take advantage of the name_street_fix function, I opt to change the key to `name` and allow `name_street_fix` to then change into into 'addr:street'.  Though this seems like a roundabout path, it is better to use in case a non-numerical, non-street name name is accidentally put as a value for `addr:interpolation`.  This is entirely possible since in my sample I am looking at only 1/10 of the data, and there may be other errors out there."
   ]
  },
  {
   "cell_type": "code",
   "execution_count": null,
   "metadata": {
    "collapsed": true
   },
   "outputs": [],
   "source": [
    "#Creates the fix (changing the key to addr:street, rather than addr:interpolation when the value is not even or odd) \n",
    "# to be used later when shaping elements\n",
    "\n",
    "def Hualtatasfix(element):\n",
    "    if element.attrib['k'] == 'addr:interpolation':\n",
    "        if (element.attrib['v'] != 'even' and element.attrib['v'] != 'odd'):\n",
    "            element.attrib['k'] = 'addr:name'\n",
    "    return element\n",
    "            \n",
    "        "
   ]
  },
  {
   "cell_type": "markdown",
   "metadata": {},
   "source": [
    "### Highways\n",
    "\n",
    "For the large part, it seems as if the elements with the highway tag have been properly used.  \"Residential\" and \"living_street\" are appropriately used according the the documentation.  The \"bus_stop\" tags may or may not be accurate.  According to the documentation: *\"highway=bus_stop should be used for \"A small bus stop. Can be mapped more rigorously using public_transport=stop_position for the position where the vehicle stops and public_transport=platform for the place where passengers wait. See public_transport= for more details.\"*  See footenote 4. Without further knowledge about whether these are \"small bus stops\" or more major ones, this change cannot be made. This could be verified by looking at data from other sources, such as http://www.transantiago.cl.  "
   ]
  },
  {
   "cell_type": "markdown",
   "metadata": {},
   "source": [
    "# Data Overview"
   ]
  },
  {
   "cell_type": "markdown",
   "metadata": {},
   "source": [
    "### File Sizes"
   ]
  },
  {
   "cell_type": "code",
   "execution_count": null,
   "metadata": {
    "collapsed": true
   },
   "outputs": [],
   "source": [
    "santiago.osm ....... 254,432 KB\n",
    "santiago.db ........ 200,582 KB\n",
    "sample.osm ......... 25,772 KB\n",
    "nodes.csv .......... 82,565 KB\n",
    "nodes_tags.csv ..... 26,408 KB\n",
    "ways.csv ........... 14,443 KB\n",
    "ways_nodes.csv ..... 27,845 KB\n",
    "way_tags.csv ....... 17,738 KB"
   ]
  },
  {
   "cell_type": "markdown",
   "metadata": {},
   "source": [
    "Once I created the database in the command terminal, I ran queries programtically. What follows are just some of the queries themselves and the outputs."
   ]
  },
  {
   "cell_type": "markdown",
   "metadata": {},
   "source": [
    "### Number of nodes and ways"
   ]
  },
  {
   "cell_type": "code",
   "execution_count": null,
   "metadata": {
    "collapsed": true
   },
   "outputs": [],
   "source": [
    "SELECT COUNT(*)\n",
    "FROM nodes;"
   ]
  },
  {
   "cell_type": "markdown",
   "metadata": {
    "collapsed": true
   },
   "source": [
    "961239"
   ]
  },
  {
   "cell_type": "markdown",
   "metadata": {},
   "source": [
    "### Number of unique users"
   ]
  },
  {
   "cell_type": "code",
   "execution_count": null,
   "metadata": {
    "collapsed": true
   },
   "outputs": [],
   "source": [
    "SELECT COUNT(*)\n",
    "FROM ways;"
   ]
  },
  {
   "cell_type": "markdown",
   "metadata": {
    "collapsed": true
   },
   "source": [
    "236355"
   ]
  },
  {
   "cell_type": "markdown",
   "metadata": {},
   "source": [
    "### Distinct number of users"
   ]
  },
  {
   "cell_type": "code",
   "execution_count": null,
   "metadata": {
    "collapsed": true
   },
   "outputs": [],
   "source": [
    "SELECT COUNT(DISTINCT(uid))          \n",
    "FROM (SELECT uid FROM nodes \n",
    "UNION SELECT uid FROM ways);"
   ]
  },
  {
   "cell_type": "markdown",
   "metadata": {
    "collapsed": true
   },
   "source": [
    "1489"
   ]
  },
  {
   "cell_type": "markdown",
   "metadata": {},
   "source": [
    "\n",
    "This is different than the answer gotten when the following function was run on the original santiago.osm file"
   ]
  },
  {
   "cell_type": "code",
   "execution_count": null,
   "metadata": {
    "collapsed": true
   },
   "outputs": [],
   "source": [
    "def get_user(element):\n",
    "    ''' Returns the user id from an element'''\n",
    "    if element.get('uid'):\n",
    "        return element.get('uid')\n",
    "        print element.get('uid')\n",
    "    else:\n",
    "        return None\n",
    "\n",
    "def number_users(filename):\n",
    "    ''' Returns the number of unique user ids in an osm file'''\n",
    "    users = set()\n",
    "    for _, element in ET.iterparse(filename):\n",
    "        if get_user(element):\n",
    "            if get_user(element) not in users:\n",
    "                users.add(get_user(element))\n",
    "    return users\n",
    "\n",
    "users = number_users('santiago.osm')"
   ]
  },
  {
   "cell_type": "code",
   "execution_count": null,
   "metadata": {
    "collapsed": true
   },
   "outputs": [],
   "source": [
    "There are 1493 unique users contributing to this data set."
   ]
  },
  {
   "cell_type": "markdown",
   "metadata": {},
   "source": [
    "### Top ten users"
   ]
  },
  {
   "cell_type": "code",
   "execution_count": null,
   "metadata": {
    "collapsed": true
   },
   "outputs": [],
   "source": [
    "SELECT nodes_ways.user, COUNT(*) as num\n",
    "FROM (SELECT user FROM nodes UNION ALL SELECT user FROM ways) nodes_ways\n",
    "GROUP BY nodes_ways.user\n",
    "ORDER BY num DESC\n",
    "LIMIT 10;"
   ]
  },
  {
   "cell_type": "code",
   "execution_count": null,
   "metadata": {
    "collapsed": true
   },
   "outputs": [],
   "source": [
    "[(u'Julio_Costa_Zambelli', 206514),\n",
    " (u'Fede Borgnia', 196366),\n",
    " (u'felipeedwards', 95448),\n",
    " (u'chesergio', 59706),\n",
    " (u'dintrans_g', 56384),\n",
    " (u'madek', 32527),\n",
    " (u'Baconcrisp', 31644),\n",
    " (u'toniello', 26331),\n",
    " (u'Chilestreet', 25054),\n",
    " (u'Run_cl', 22982)]"
   ]
  },
  {
   "cell_type": "markdown",
   "metadata": {},
   "source": [
    "### One hit wonders "
   ]
  },
  {
   "cell_type": "code",
   "execution_count": null,
   "metadata": {
    "collapsed": true
   },
   "outputs": [],
   "source": [
    "SELECT COUNT(*) \n",
    "FROM\n",
    "    (SELECT e.user, COUNT(*) as num\n",
    "     FROM (SELECT user FROM nodes UNION ALL SELECT user FROM ways) e\n",
    "     GROUP BY e.user\n",
    "     HAVING num=1)  u"
   ]
  },
  {
   "cell_type": "markdown",
   "metadata": {
    "collapsed": true
   },
   "source": [
    "439"
   ]
  },
  {
   "cell_type": "markdown",
   "metadata": {},
   "source": [
    "### Number of user contributing over 10,000 times"
   ]
  },
  {
   "cell_type": "code",
   "execution_count": null,
   "metadata": {
    "collapsed": true
   },
   "outputs": [],
   "source": [
    "SELECT COUNT(*) \n",
    "FROM\n",
    "    (SELECT e.user, COUNT(*) as num\n",
    "     FROM (SELECT user FROM nodes UNION ALL SELECT user FROM ways) e\n",
    "     GROUP BY e.user\n",
    "     HAVING num>10000)  u;"
   ]
  },
  {
   "cell_type": "markdown",
   "metadata": {},
   "source": [
    "20"
   ]
  },
  {
   "cell_type": "markdown",
   "metadata": {},
   "source": [
    "### Total number of contributions from those 20 users"
   ]
  },
  {
   "cell_type": "code",
   "execution_count": null,
   "metadata": {
    "collapsed": true
   },
   "outputs": [],
   "source": [
    "SELECT sum(u.num) \n",
    "FROM\n",
    "    (SELECT e.user, COUNT(*) as num\n",
    "     FROM (SELECT user FROM nodes UNION ALL SELECT user FROM ways) e\n",
    "     GROUP BY e.user\n",
    "     HAVING num>10000)  u;"
   ]
  },
  {
   "cell_type": "markdown",
   "metadata": {},
   "source": [
    "916783"
   ]
  },
  {
   "cell_type": "markdown",
   "metadata": {},
   "source": [
    "### Total number of contributions"
   ]
  },
  {
   "cell_type": "code",
   "execution_count": null,
   "metadata": {
    "collapsed": true
   },
   "outputs": [],
   "source": [
    "SELECT sum(u.num) \n",
    "FROM\n",
    "    (SELECT e.user, COUNT(*) as num\n",
    "     FROM (SELECT user FROM nodes UNION ALL SELECT user FROM ways) e\n",
    "     GROUP BY e.user)  u;"
   ]
  },
  {
   "cell_type": "markdown",
   "metadata": {},
   "source": [
    "1197594\n",
    "\n",
    "This means that the top 20 users contributed ~77 % of the data.\n",
    "In other words, the top 1% of users contributed ~77% of the data"
   ]
  },
  {
   "cell_type": "markdown",
   "metadata": {},
   "source": [
    "### Top ten areas of the city (comunas)"
   ]
  },
  {
   "cell_type": "code",
   "execution_count": null,
   "metadata": {
    "collapsed": true
   },
   "outputs": [],
   "source": [
    "SELECT tags.value, COUNT(*) as count \n",
    "FROM (SELECT * FROM nodes_tags UNION ALL \n",
    "      SELECT * FROM ways_tags) tags\n",
    "WHERE tags.key LIKE '%city'\n",
    "GROUP BY tags.value\n",
    "ORDER BY count\n",
    "LIMIT 10;"
   ]
  },
  {
   "cell_type": "code",
   "execution_count": null,
   "metadata": {
    "collapsed": true
   },
   "outputs": [],
   "source": [
    "[(u'Providencia', 3415),\n",
    " (u'Santiago', 1620),\n",
    " (u'Las Condes', 1591),\n",
    " (u'La Reina', 963),\n",
    " (u'Puente Alto', 896),\n",
    " (u'La Florida', 826),\n",
    " (u'San Bernardo', 812),\n",
    " (u'Maip\\xfa', 798),\n",
    " (u'\\xd1u\\xf1oa', 733),\n",
    " (u'Pudahuel', 538)]"
   ]
  },
  {
   "cell_type": "markdown",
   "metadata": {},
   "source": [
    "Not surprisingly, the highest number of \"city\" tags falls into Providencia, which is one of the most popular areas of the city.  (And where I live!) Runners-up are other comunas with high numbers of restaurants, schools, residential areas, etc.  We can see that this is another area for improvement since there are some redundancies, e.g. the comuna of Providencia is represented in 6 different ways: 'Providencia', 'Providencia,Santiago', 'Santiago;Providencia', 'Providencia;Santiago', 'Providencia;Santiago', 'Providencias'.  Additionally, while initially scanning the data, I noticed that some had opted to use the \"is_in\" tag to denote a part of the city, furthermore pointing out a need for standardizing the data."
   ]
  },
  {
   "cell_type": "markdown",
   "metadata": {},
   "source": [
    "### Top ten amenities"
   ]
  },
  {
   "cell_type": "code",
   "execution_count": null,
   "metadata": {
    "collapsed": true
   },
   "outputs": [],
   "source": [
    "SELECT value, COUNT(*) as num\n",
    "FROM nodes_tags\n",
    "WHERE key='amenity'\n",
    "GROUP BY value\n",
    "ORDER BY num DESC\n",
    "LIMIT 10;"
   ]
  },
  {
   "cell_type": "code",
   "execution_count": null,
   "metadata": {
    "collapsed": true
   },
   "outputs": [],
   "source": [
    "[(u'school', 1946),\n",
    " (u'restaurant', 1643),\n",
    " (u'kindergarten', 1053),\n",
    " (u'pharmacy', 749),\n",
    " (u'fast_food', 632),\n",
    " (u'parking', 586),\n",
    " (u'bank', 498),\n",
    " (u'cafe', 445),\n",
    " (u'bench', 306),\n",
    " (u'bicycle_parking', 241)]"
   ]
  },
  {
   "cell_type": "markdown",
   "metadata": {},
   "source": [
    "### Top twenty types of cuisine"
   ]
  },
  {
   "cell_type": "code",
   "execution_count": null,
   "metadata": {
    "collapsed": true
   },
   "outputs": [],
   "source": [
    "SELECT nodes_tags.value, COUNT(*) as num\n",
    "FROM nodes_tags \n",
    "    JOIN (SELECT DISTINCT(id) FROM nodes_tags WHERE value='restaurant') i\n",
    "    ON nodes_tags.id=i.id\n",
    "WHERE nodes_tags.key='cuisine'\n",
    "GROUP BY nodes_tags.value\n",
    "ORDER BY num DESC\n",
    "LIMIT 20;"
   ]
  },
  {
   "cell_type": "code",
   "execution_count": null,
   "metadata": {
    "collapsed": true
   },
   "outputs": [],
   "source": [
    "[(u'sushi', 89),\n",
    " (u'chinese', 85),\n",
    " (u'pizza', 51),\n",
    " (u'regional', 29),\n",
    " (u'steak_house', 23),\n",
    " (u'italian', 21),\n",
    " (u'sandwich', 21),\n",
    " (u'peruvian', 20),\n",
    " (u'international', 16),\n",
    " (u'japanese', 15),\n",
    " (u'chicken', 10),\n",
    " (u'burger', 9),\n",
    " (u'seafood', 9),\n",
    " (u'Peruvian', 7),\n",
    " (u'indian', 6),\n",
    " (u'arab', 5),\n",
    " (u'asian', 5),\n",
    " (u'coffee_shop', 5),\n",
    " (u'spanish', 5),\n",
    " (u'mexican', 4)]"
   ]
  },
  {
   "cell_type": "markdown",
   "metadata": {},
   "source": [
    "Not surprising, there's a ton of sushi here. But it all has cream cheese in it!  I like a Philly roll now and then, but not all the time!"
   ]
  },
  {
   "cell_type": "markdown",
   "metadata": {},
   "source": [
    "### Top ten amenities in Providenca"
   ]
  },
  {
   "cell_type": "code",
   "execution_count": null,
   "metadata": {
    "collapsed": true
   },
   "outputs": [],
   "source": [
    "SELECT nodes_tags.value, COUNT(*) as num\n",
    "FROM nodes_tags \n",
    "    JOIN (SELECT DISTINCT(id) FROM nodes_tags WHERE value='Providencia') i\n",
    "    ON nodes_tags.id=i.id\n",
    "WHERE nodes_tags.key='amenity'\n",
    "GROUP BY nodes_tags.value\n",
    "ORDER BY num DESC\n",
    "LIMIT 10;"
   ]
  },
  {
   "cell_type": "code",
   "execution_count": null,
   "metadata": {
    "collapsed": true
   },
   "outputs": [],
   "source": [
    "[(u'bicycle_parking', 104),\n",
    " (u'restaurant', 77),\n",
    " (u'cafe', 34),\n",
    " (u'kindergarten', 28),\n",
    " (u'pharmacy', 24),\n",
    " (u'fast_food', 18),\n",
    " (u'bank', 11),\n",
    " (u'pub', 11),\n",
    " (u'embassy', 7),\n",
    " (u'bureau_de_change', 6)]"
   ]
  },
  {
   "cell_type": "markdown",
   "metadata": {},
   "source": [
    "There are a lot of bike racks here... let's see where else."
   ]
  },
  {
   "cell_type": "code",
   "execution_count": null,
   "metadata": {
    "collapsed": true
   },
   "outputs": [],
   "source": [
    "SELECT nodes_tags.value, COUNT(*) as num\n",
    "FROM nodes_tags \n",
    "    JOIN (SELECT DISTINCT(id) FROM nodes_tags WHERE value='bicycle_parking') i\n",
    "    ON nodes_tags.id=i.id\n",
    "WHERE nodes_tags.key LIKE '%city'\n",
    "GROUP BY nodes_tags.value\n",
    "ORDER BY num DESC\n",
    "LIMIT 10;"
   ]
  },
  {
   "cell_type": "code",
   "execution_count": null,
   "metadata": {
    "collapsed": true
   },
   "outputs": [],
   "source": [
    "[(u'Providencia', 104),\n",
    " (u'6', 37),\n",
    " (u'10', 19),\n",
    " (u'5', 19),\n",
    " (u'4', 14),\n",
    " (u'8', 13),\n",
    " (u'15', 9),\n",
    " (u'12', 8),\n",
    " (u'20', 7),\n",
    " (u'30', 6)]"
   ]
  },
  {
   "cell_type": "markdown",
   "metadata": {},
   "source": [
    "Unfortunately, the other comunas have not been mentioned by name in the list of bicycle parking spots.  While Provi definitely does have the most bike parking in the city, it exists in the other areas as well. The need to standardize (comuna names or numerial codes?) and clarify (what do these numerical codes mean?) is apparent once again."
   ]
  },
  {
   "cell_type": "markdown",
   "metadata": {
    "collapsed": true
   },
   "source": [
    "## Other ideas about the data set"
   ]
  },
  {
   "cell_type": "markdown",
   "metadata": {},
   "source": [
    "Though I was surprised by the amount of data present on the Santiago map, it is by no means complete, as was confirmed during SQL querying.  Scraping from government websites as well as commerical sites like Tripadvisor would augment the information on schools and amenities and help to audit its consistency.  There does already seem to be a large amount of data already present on public transportation, however.  This makes sense as the largest source of data is http://www.transantiago.cl.  Sometimes it seems there was duplicated or errneous data for public transport though, as an SQL query showed 144 metro stations, though there are only 108.  (Footnote #5).  \n",
    "\n",
    "\n",
    "\n",
    "### Benefits of increased completeness and consistency through scraping additional sources\n",
    "\n",
    "Though currently most query results matched with my perceptions about the city (e.g. where banks and restaurants are located) this is perhaps because my personal biased view is shared by those those who input the data, who possibly live in simililar (and relatively affluent) parts of the city.  Thus the data is weighted towards them.  Scraping from multiple sources will create a more accurate map of the city and as a result, queries will yield more accurate results.\n",
    "\n",
    "This kind of information is useful for both commerical and governmental purposes such as decided where to put a new subway station or a new Subway restaurant.\n",
    "\n",
    "\n",
    "### Anticipated Problems\n",
    "\n",
    "Scraping from multiple sources to increase completeness will also create more uniformity issues. Uniformity is already a big issue for this data set, not just in terms of abbreviations for street names, but how items are tagged.  Sometimes street names are duplicated in multiple tags and many versions of the comunas (regions of the city) cloud the data.  Re-tagging the \"city\" and \"is-in\" for uniformity is one extension on the wrangling that has been done.\n",
    "\n",
    "\n",
    "### Summary\n",
    "\n",
    "This case study attempted to make street abbreviations uniform and change the keys for improper secondary tags (from addr:interpolation to addr:street, for example).  Additionally, querying was used to learn about the number of users, which amenities are present in the data, and where they can be found across the city.  Currently, this map is missing a lot of data. Remaining questions include what the meaning of the \"id_origin\" tag is and what the numerical codes for the school operator tag mean.  In general, I wonder if there is a way to name these tags or whether files/forums exist on OpenStreetMaps that makes these things more transparent.\n"
   ]
  },
  {
   "cell_type": "markdown",
   "metadata": {},
   "source": [
    "### Footnotes"
   ]
  },
  {
   "cell_type": "markdown",
   "metadata": {},
   "source": [
    "1. Project details -- cutting the file down to a sample: https://classroom.udacity.com/nanodegrees/nd002/parts/0021345404/modules/316820862075463/lessons/3168208620239847/concepts/77135319070923#\n",
    "2. Changesets -- http://wiki.openstreetmap.org/wiki/Changeset\n",
    "3. Stackoverflow on printing a dictionary sorted by values  http://stackoverflow.com/questions/11228812/print-a-dict-sorted-by-values\n",
    "4. OSM highway wiki http://wiki.openstreetmap.org/wiki/Key:highway\n",
    "5. Santiago Metro https://en.wikipedia.org/wiki/Santiago_Metro"
   ]
  }
 ],
 "metadata": {
  "anaconda-cloud": {},
  "kernelspec": {
   "display_name": "Python [Root]",
   "language": "python",
   "name": "Python [Root]"
  },
  "language_info": {
   "codemirror_mode": {
    "name": "ipython",
    "version": 2
   },
   "file_extension": ".py",
   "mimetype": "text/x-python",
   "name": "python",
   "nbconvert_exporter": "python",
   "pygments_lexer": "ipython2",
   "version": "2.7.12"
  }
 },
 "nbformat": 4,
 "nbformat_minor": 1
}
